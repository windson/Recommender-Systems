{
 "cells": [
  {
   "cell_type": "code",
   "execution_count": 1,
   "metadata": {
    "collapsed": true
   },
   "outputs": [],
   "source": [
    "from IPython import get_ipython\n",
    "get_ipython().run_line_magic('matplotlib', 'inline')\n",
    "import numpy as np\n",
    "from scipy import spatial\n",
    "import pickle\n",
    "import matplotlib.pyplot as plt"
   ]
  },
  {
   "cell_type": "code",
   "execution_count": 2,
   "metadata": {
    "collapsed": true
   },
   "outputs": [],
   "source": [
    "ratings = []\n",
    "with open('dataset/user-shows-with-u20-has-1st-100-ratings-set-0.txt', 'r') as f:\n",
    "    for line in f:\n",
    "        line = list(map(int, line.strip().split()))\n",
    "        ratings.append(line)\n",
    "        \n",
    "R = np.matrix(ratings)\n",
    "m, n = R.shape\n",
    "m, _ = R.shape\n",
    "P = np.zeros([m, m])\n",
    "\n",
    "for i in range(m):\n",
    "    P[i, i] = np.sum(R[i])\n",
    "_, n = R.shape\n",
    "\n",
    "Q = np.zeros([n, n])\n",
    "for i in range(n):\n",
    "    Q[i, i] = np.sum(R[:, i])\n",
    "\n",
    "Ps = P\n",
    "for i in range(m):\n",
    "    Ps[i, i] = np.sqrt(1.0 / P[i, i])\n",
    "\n",
    "Qs = Q\n",
    "for i in range(n):\n",
    "    Qs[i, i] = np.sqrt(1.0 / Q[i, i])\n",
    "\n",
    "#Gu2uSim = Q^(-1/2) R^T RQ^(-1/2)\n",
    "Gu2uSim = Ps * R * R.T * Ps * R\n",
    "u2u = np.array(Gu2uSim[19, :100]).flatten().argsort()[::-1]\n",
    "\n",
    "#Gi2iSim = P^(-1/2) RR^T P^(-1/2)\n",
    "Gi2iSim = R * Qs * R.T * R * Qs\n",
    "i2i = np.array(Gi2iSim[19, :100]).flatten().argsort()[::-1]\n"
   ]
  },
  {
   "cell_type": "code",
   "execution_count": 3,
   "metadata": {},
   "outputs": [],
   "source": [
    "i2iSimScoresInDescOrder = np.array(Gi2iSim[19, :100]).flatten()[i2i]"
   ]
  },
  {
   "cell_type": "code",
   "execution_count": 4,
   "metadata": {},
   "outputs": [],
   "source": [
    "u2uSimScoresInDescOrder = np.array(Gu2uSim[19, :100]).flatten()[u2u]"
   ]
  },
  {
   "cell_type": "code",
   "execution_count": 5,
   "metadata": {
    "scrolled": true
   },
   "outputs": [
    {
     "data": {
      "text/plain": [
       "array([96, 74, 45, 35, 60,  9,  5, 68, 82, 72, 62, 97, 64, 59, 46, 65, 36,\n",
       "       44, 11, 40, 99, 90, 25, 76,  2,  1, 13, 20, 63, 43, 10, 15, 48, 41,\n",
       "       38, 88, 14, 67, 81, 73, 98,  8, 54, 34, 19, 87, 55, 56, 17, 86, 58,\n",
       "       71, 69, 91, 66, 29, 70, 16, 57, 77, 31, 53, 22, 85, 89, 21, 93, 83,\n",
       "        4, 28, 52, 78,  6, 27, 51, 32, 12, 23, 84,  3, 79,  0, 37, 50, 26,\n",
       "       95, 42, 94, 92, 49, 24, 33, 30, 39, 75,  7, 18, 61, 80, 47], dtype=int64)"
      ]
     },
     "execution_count": 5,
     "metadata": {},
     "output_type": "execute_result"
    }
   ],
   "source": [
    "u2u"
   ]
  },
  {
   "cell_type": "code",
   "execution_count": 6,
   "metadata": {},
   "outputs": [
    {
     "data": {
      "text/plain": [
       "array([35, 63, 96, 74, 48, 44, 45,  5, 40, 60,  9, 82, 68, 36, 66, 97, 69,\n",
       "       38, 59, 62, 72, 70, 41, 64, 65, 99, 46, 25, 90,  2, 11, 20,  1, 76,\n",
       "       43, 10, 13, 77, 88, 14, 73, 98, 15, 81, 87, 67, 17, 86, 55, 56,  8,\n",
       "       34, 54, 19, 58, 53, 71, 91, 78, 31, 85, 22, 16, 57, 29, 79, 37, 52,\n",
       "       89, 51, 83, 21, 93,  4, 28,  6, 27, 84, 12, 23, 32,  3, 42,  0, 50,\n",
       "       39, 95, 92, 49, 94, 30, 24, 75, 26, 33,  7, 18, 61, 80, 47], dtype=int64)"
      ]
     },
     "execution_count": 6,
     "metadata": {},
     "output_type": "execute_result"
    }
   ],
   "source": [
    "i2i"
   ]
  },
  {
   "cell_type": "code",
   "execution_count": 7,
   "metadata": {},
   "outputs": [],
   "source": [
    "import pandas as pd\n",
    "shows = pd.read_csv('dataset/shows.txt', sep=\" \", header = None,names=[\"showname\"])"
   ]
  },
  {
   "cell_type": "code",
   "execution_count": 8,
   "metadata": {},
   "outputs": [
    {
     "data": {
      "text/plain": [
       "'The Colbert Report'"
      ]
     },
     "execution_count": 8,
     "metadata": {},
     "output_type": "execute_result"
    }
   ],
   "source": [
    "shows.loc[3,'showname']"
   ]
  },
  {
   "cell_type": "code",
   "execution_count": 9,
   "metadata": {
    "collapsed": true
   },
   "outputs": [],
   "source": [
    "def getTopNRecommendatonsBasedOnU2U(N):\n",
    "    topNRecsU2U=[]\n",
    "    cnt=0\n",
    "    for i in u2u[:N]:\n",
    "        cnt+=1\n",
    "        topNRecsU2U.append(i)\n",
    "    return topNRecsU2U"
   ]
  },
  {
   "cell_type": "code",
   "execution_count": 10,
   "metadata": {
    "collapsed": true
   },
   "outputs": [],
   "source": [
    "def printTopNRecommendatonsBasedOnU2U(N):\n",
    "    print ('Top '+ str(N) + ' shows based on user-user collaborative filtering:')\n",
    "    cnt=0\n",
    "    print('sl.no \\t show id \\tSimilarity Score \\tshowname')\n",
    "    for i in u2u[:N]:\n",
    "        cnt+=1\n",
    "        print(str(cnt)+'\\t   '+str(i) +'\\t\\t'+str(u2uSimScoresInDescOrder[cnt-1])+'\\t\\t'+ str(shows.ix[i,'showname']))"
   ]
  },
  {
   "cell_type": "code",
   "execution_count": 11,
   "metadata": {},
   "outputs": [
    {
     "name": "stdout",
     "output_type": "stream",
     "text": [
      "Top 5 shows based on user-user collaborative filtering:\n",
      "sl.no \t show id \tSimilarity Score \tshowname\n",
      "1\t   96\t\t666.482823518\t\tFOX 28 News at 10pm\n",
      "2\t   74\t\t664.956977312\t\tFamily Guy\n",
      "3\t   45\t\t588.914140028\t\t2009 NCAA Basketball Tournament\n",
      "4\t   35\t\t583.334679391\t\tSpongeBob SquarePants\n",
      "5\t   60\t\t565.554362912\t\tNBC 4 at Eleven\n"
     ]
    },
    {
     "name": "stderr",
     "output_type": "stream",
     "text": [
      "C:\\Program Files\\Anaconda3\\lib\\site-packages\\ipykernel\\__main__.py:7: DeprecationWarning: \n",
      ".ix is deprecated. Please use\n",
      ".loc for label based indexing or\n",
      ".iloc for positional indexing\n",
      "\n",
      "See the documentation here:\n",
      "http://pandas.pydata.org/pandas-docs/stable/indexing.html#deprecate_ix\n"
     ]
    }
   ],
   "source": [
    "printTopNRecommendatonsBasedOnU2U(5)"
   ]
  },
  {
   "cell_type": "code",
   "execution_count": 12,
   "metadata": {
    "collapsed": true
   },
   "outputs": [],
   "source": [
    "def getTopNRecommendatonsBasedOnI2I(N):\n",
    "    cnt=0\n",
    "    topNRecsI2I=[]\n",
    "    for i in i2i[:N]:\n",
    "        cnt+=1\n",
    "        topNRecsI2I.append(i)\n",
    "    return topNRecsI2I"
   ]
  },
  {
   "cell_type": "code",
   "execution_count": 13,
   "metadata": {
    "collapsed": true
   },
   "outputs": [],
   "source": [
    "def printTopNRecommendatonsBasedOnI2I(N):\n",
    "    print ('Top '+ str(N) + ' shows based on Item-Item collaborative filtering:')\n",
    "    cnt=0\n",
    "    print('sl.no \\t show id \\tSimilarity Score \\tshowname')\n",
    "    for i in i2i[:N]:\n",
    "        cnt+=1\n",
    "        print(str(cnt)+'\\t   '+str(i) +'\\t\\t'+str(i2iSimScoresInDescOrder[cnt-1])+'\\t\\t'+ str(shows.ix[i,'showname']))"
   ]
  },
  {
   "cell_type": "code",
   "execution_count": 14,
   "metadata": {},
   "outputs": [
    {
     "name": "stdout",
     "output_type": "stream",
     "text": [
      "Top 5 shows based on Item-Item collaborative filtering:\n",
      "sl.no \t show id \tSimilarity Score \tshowname\n",
      "1\t   35\t\t15.3857091975\t\tSpongeBob SquarePants\n",
      "2\t   63\t\t15.2473454314\t\tWow Wow Wubbzy\n",
      "3\t   96\t\t14.9542951772\t\tFOX 28 News at 10pm\n",
      "4\t   74\t\t14.9275885465\t\tFamily Guy\n",
      "5\t   48\t\t14.9246217896\t\tMax and Ruby\n"
     ]
    }
   ],
   "source": [
    "printTopNRecommendatonsBasedOnI2I(5)"
   ]
  },
  {
   "cell_type": "code",
   "execution_count": 16,
   "metadata": {},
   "outputs": [],
   "source": [
    "with open('dataset/user20.txt', 'r') as f:\n",
    "        user20 = np.array(list(map(int, f.readline().strip().split())))"
   ]
  },
  {
   "cell_type": "code",
   "execution_count": 17,
   "metadata": {},
   "outputs": [],
   "source": [
    "def getShowsActuallyWatchedByUser20():\n",
    "    showsActuallyWatched = []\n",
    "    indx=0\n",
    "    for i in user20[0:99]:\n",
    "        indx += 1\n",
    "        if i == 1:\n",
    "            showsActuallyWatched.append(indx-1)\n",
    "    return showsActuallyWatched"
   ]
  },
  {
   "cell_type": "code",
   "execution_count": 24,
   "metadata": {
    "collapsed": true
   },
   "outputs": [],
   "source": [
    "def printShowsActuallyWatchedByUser20():\n",
    "    indx=0\n",
    "    print(\"Actually watched shows by user 20\")\n",
    "    print('Id \\tShow Name')\n",
    "    for i in user20[0:99]:\n",
    "        indx += 1\n",
    "        if i == 1:\n",
    "            print(str(indx-1) +' \\t'+ shows.loc[indx-1,'showname'])"
   ]
  },
  {
   "cell_type": "code",
   "execution_count": 25,
   "metadata": {},
   "outputs": [
    {
     "data": {
      "text/plain": [
       "[15, 20, 35, 39, 40, 42, 43, 54, 58, 60, 62, 63, 66, 67, 68, 69, 70, 74, 96]"
      ]
     },
     "execution_count": 25,
     "metadata": {},
     "output_type": "execute_result"
    }
   ],
   "source": [
    "#actually watched shows\n",
    "getShowsActuallyWatchedByUser20()"
   ]
  },
  {
   "cell_type": "code",
   "execution_count": 26,
   "metadata": {},
   "outputs": [
    {
     "name": "stdout",
     "output_type": "stream",
     "text": [
      "Actually watched shows by user 20\n",
      "Id \tShow Name\n",
      "15 \t60 Minutes\n",
      "20 \tCBS Evening News\n",
      "35 \tSpongeBob SquarePants\n",
      "39 \tSweat Equity\n",
      "40 \tThe Fairly OddParents\n",
      "42 \tDog the Bounty Hunter\n",
      "43 \tLaw & Order: Criminal Intent\n",
      "54 \tMLB Baseball\n",
      "58 \tESPNews \n",
      "60 \tNBC 4 at Eleven\n",
      "62 \tNBC 4 Today \n",
      "63 \tWow Wow Wubbzy\n",
      "66 \tLazyTown\n",
      "67 \tToday Weekend\n",
      "68 \tToday\n",
      "69 \tBlue's Clues\n",
      "70 \tFranklin\n",
      "74 \tFamily Guy\n",
      "96 \tFOX 28 News at 10pm\n"
     ]
    }
   ],
   "source": [
    "printShowsActuallyWatchedByUser20()"
   ]
  },
  {
   "cell_type": "code",
   "execution_count": 27,
   "metadata": {},
   "outputs": [],
   "source": [
    "def getTruPosForU2U():\n",
    "    actualShows=getShowsActuallyWatchedByUser20()\n",
    "    truPos=[]\n",
    "    for k in range(20):\n",
    "        topKRecUser=getTopNRecommendatonsBasedOnU2U(k)\n",
    "        cntTopK=0\n",
    "        for krec in topKRecUser:\n",
    "            if krec in actualShows:\n",
    "                cntTopK += 1\n",
    "        TPR=cntTopK/float(len(actualShows))\n",
    "        truPos.append(TPR)\n",
    "    return truPos"
   ]
  },
  {
   "cell_type": "code",
   "execution_count": 28,
   "metadata": {
    "collapsed": true
   },
   "outputs": [],
   "source": [
    "def getTruPosForI2I():\n",
    "    actualShows=getShowsActuallyWatchedByUser20()\n",
    "    truPos=[]\n",
    "    for k in range(20):\n",
    "        topKRecItem=getTopNRecommendatonsBasedOnI2I(k)\n",
    "        cntTopK=0\n",
    "        for krec in topKRecItem:\n",
    "            if krec in actualShows:\n",
    "                cntTopK += 1\n",
    "        TPR=cntTopK/float(len(actualShows))\n",
    "        truPos.append(TPR)\n",
    "    return truPos"
   ]
  },
  {
   "cell_type": "code",
   "execution_count": 29,
   "metadata": {},
   "outputs": [
    {
     "data": {
      "image/png": "[encoded data removed]",
      "text/plain": [
       "<matplotlib.figure.Figure at 0x13c97c50>"
      ]
     },
     "metadata": {},
     "output_type": "display_data"
    }
   ],
   "source": [
    "truPosI2I=getTruPosForI2I()\n",
    "truPosU2U=getTruPosForU2U()\n",
    "plt.plot(np.arange(0,20,1), np.array(truPosI2I), 'p-',np.arange(0,20,1), np.array(truPosU2U), '*-')\n",
    "plt.xlabel('K value')\n",
    "plt.ylabel('True Positive Rate for top k=20')\n",
    "plt.title('User-user, Item-item collaborative filtering predictions')\n",
    "plt.legend(('Item-item','User-user'),loc='upper left')\n",
    "plt.show()"
   ]
  },
  {
   "cell_type": "code",
   "execution_count": 30,
   "metadata": {
    "collapsed": true
   },
   "outputs": [],
   "source": [
    "def plotPrecision(u2u, i2i, user20):\n",
    "    u2uplot = []\n",
    "    for i in range(19):\n",
    "        cnt = 0\n",
    "        for s in u2u[:(i+1)]:\n",
    "            if user20[s] == 1:\n",
    "                cnt += 1\n",
    "        u2uplot.append(float(cnt) / (i + 1))\n",
    "    \n",
    "    print (u2uplot)\n",
    "    \n",
    "    i2iplot = []\n",
    "    for i in range(19):\n",
    "        cnt = 0\n",
    "        for s in i2i[:(i+1)]:\n",
    "            if user20[s] == 1:\n",
    "                cnt += 1\n",
    "        i2iplot.append(float(cnt) / (i + 1))\n",
    "    \n",
    "    print (i2iplot)\n",
    "\n",
    "    import matplotlib.pyplot as plt\n",
    "    plt.plot(range(1, 20), u2uplot, 'p-', range(1, 20), i2iplot, '*-')\n",
    "    plt.xlabel('k (for k∈[1,19])')\n",
    "    plt.ylabel('precison')\n",
    "    plt.grid(True)\n",
    "    plt.legend(('User-user', 'Item-item'))"
   ]
  },
  {
   "cell_type": "code",
   "execution_count": 31,
   "metadata": {},
   "outputs": [
    {
     "name": "stdout",
     "output_type": "stream",
     "text": [
      "[1.0, 1.0, 0.6666666666666666, 0.75, 0.8, 0.6666666666666666, 0.5714285714285714, 0.625, 0.5555555555555556, 0.5, 0.5454545454545454, 0.5, 0.46153846153846156, 0.42857142857142855, 0.4, 0.375, 0.35294117647058826, 0.3333333333333333, 0.3157894736842105]\n",
      "[1.0, 1.0, 1.0, 1.0, 0.8, 0.6666666666666666, 0.5714285714285714, 0.5, 0.5555555555555556, 0.6, 0.5454545454545454, 0.5, 0.5384615384615384, 0.5, 0.5333333333333333, 0.5, 0.5294117647058824, 0.5, 0.47368421052631576]\n"
     ]
    },
    {
     "data": {
      "image/png": "[encoded data removed]",
      "text/plain": [
       "<matplotlib.figure.Figure at 0x13cfab70>"
      ]
     },
     "metadata": {},
     "output_type": "display_data"
    }
   ],
   "source": [
    "plotPrecision(u2u, i2i, user20)"
   ]
  },
  {
   "cell_type": "code",
   "execution_count": null,
   "metadata": {
    "collapsed": true
   },
   "outputs": [],
   "source": []
  }
 ],
 "metadata": {
  "anaconda-cloud": {},
  "kernelspec": {
   "display_name": "Python [default]",
   "language": "python",
   "name": "python3"
  },
  "language_info": {
   "codemirror_mode": {
    "name": "ipython",
    "version": 3
   },
   "file_extension": ".py",
   "mimetype": "text/x-python",
   "name": "python",
   "nbconvert_exporter": "python",
   "pygments_lexer": "ipython3",
   "version": "3.5.3"
  }
 },
 "nbformat": 4,
 "nbformat_minor": 2
}
